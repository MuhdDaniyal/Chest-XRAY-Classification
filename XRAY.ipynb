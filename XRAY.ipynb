{
 "cells": [
  {
   "cell_type": "code",
   "execution_count": null,
   "metadata": {
    "vscode": {
     "languageId": "plaintext"
    }
   },
   "outputs": [],
   "source": [
    "import os\n",
    "import pandas as pd\n",
    "import numpy as np\n",
    "import seaborn as sns\n",
    "import matplotlib.pyplot as plt\n",
    "import cv2\n",
    "from sklearn.model_selection import train_test_split\n",
    "import tensorflow as tf\n",
    "from tensorflow.keras.models import Sequential\n",
    "from tensorflow.keras.layers import Conv2D, MaxPooling2D, Flatten, Dense\n",
    "\n"
   ]
  },
  {
   "cell_type": "code",
   "execution_count": null,
   "metadata": {
    "vscode": {
     "languageId": "plaintext"
    }
   },
   "outputs": [],
   "source": [
    "# Extracting the data directly from kaggle\n",
    "os.environ['KAGGLE_USERNAME'] = \"muhddaniyal\"\n",
    "os.environ['KAGGLE_KEY'] = \"ced0131dac41051a559103b16031f513\""
   ]
  },
  {
   "cell_type": "code",
   "execution_count": null,
   "metadata": {
    "vscode": {
     "languageId": "plaintext"
    }
   },
   "outputs": [],
   "source": [
    "!kaggle datasets download tawsifurrahman/covid19-radiography-database"
   ]
  },
  {
   "cell_type": "code",
   "execution_count": null,
   "metadata": {
    "vscode": {
     "languageId": "plaintext"
    }
   },
   "outputs": [],
   "source": [
    "# Now we've got the zip folder from the above cell so now we've to unzip it\n",
    "!unzip covid19-radiography-database.zip"
   ]
  },
  {
   "cell_type": "code",
   "execution_count": null,
   "metadata": {
    "vscode": {
     "languageId": "plaintext"
    }
   },
   "outputs": [],
   "source": [
    "df_n = pd.read_excel('/content/COVID-19_Radiography_Dataset/Normal.metadata.xlsx')"
   ]
  },
  {
   "cell_type": "code",
   "execution_count": null,
   "metadata": {
    "vscode": {
     "languageId": "plaintext"
    }
   },
   "outputs": [],
   "source": [
    "df_n.head()\n",
    "# We've paths of every image in the COVID"
   ]
  },
  {
   "cell_type": "code",
   "execution_count": null,
   "metadata": {
    "vscode": {
     "languageId": "plaintext"
    }
   },
   "outputs": [],
   "source": [
    "# Now we're selecting the covid and normal folder we can also choose other but right now we're working on the\n",
    "# COVID and Normal"
   ]
  },
  {
   "cell_type": "code",
   "execution_count": null,
   "metadata": {
    "vscode": {
     "languageId": "plaintext"
    }
   },
   "outputs": [],
   "source": [
    "len(os.listdir('/content/COVID-19_Radiography_Dataset/COVID/'))\n",
    "# We've two folders inside the COVID folder"
   ]
  },
  {
   "cell_type": "code",
   "execution_count": null,
   "metadata": {
    "vscode": {
     "languageId": "plaintext"
    }
   },
   "outputs": [],
   "source": [
    "len(os.listdir('/content/COVID-19_Radiography_Dataset/COVID/images/'))\n",
    "# no. of images we've in the covid folder"
   ]
  },
  {
   "cell_type": "code",
   "execution_count": null,
   "metadata": {
    "vscode": {
     "languageId": "plaintext"
    }
   },
   "outputs": [],
   "source": [
    "len(os.listdir('/content/COVID-19_Radiography_Dataset/Normal/'))\n",
    "# We've two folders inside the Normal folder"
   ]
  },
  {
   "cell_type": "code",
   "execution_count": null,
   "metadata": {
    "vscode": {
     "languageId": "plaintext"
    }
   },
   "outputs": [],
   "source": [
    "len(os.listdir('/content/COVID-19_Radiography_Dataset/Normal/images/'))\n",
    "# no. of images"
   ]
  },
  {
   "cell_type": "code",
   "execution_count": null,
   "metadata": {
    "vscode": {
     "languageId": "plaintext"
    }
   },
   "outputs": [],
   "source": [
    "\n",
    "normal_count = len(os.listdir('/content/COVID-19_Radiography_Dataset/Normal/images/'))\n",
    "covid_count = len(os.listdir('/content/COVID-19_Radiography_Dataset/COVID/images/'))\n",
    "\n",
    "data = {'Class': ['Normal', 'Covid'], 'Count': [normal_count, covid_count]}\n",
    "df = pd.DataFrame(data)\n",
    "\n",
    "sns.set(style=\"darkgrid\")\n",
    "plt.figure(figsize=(8, 6))\n",
    "sns.barplot(x='Class', y='Count', data=df, palette = ['#77C3EC', 'red'])\n",
    "\n",
    "plt.xlabel('Class')\n",
    "plt.ylabel('Count')\n",
    "plt.title('Dataset Balance')\n",
    "plt.show()\n"
   ]
  },
  {
   "cell_type": "code",
   "execution_count": null,
   "metadata": {
    "vscode": {
     "languageId": "plaintext"
    }
   },
   "outputs": [],
   "source": [
    "# we detected the problem here that training data is not balanced right now\n",
    "# Imbalanced dataset usually have low accuracy or biased data"
   ]
  },
  {
   "cell_type": "code",
   "execution_count": null,
   "metadata": {
    "vscode": {
     "languageId": "plaintext"
    }
   },
   "outputs": [],
   "source": [
    "# Reading any one image using cv2\n",
    "img = cv2.imread('/content/COVID-19_Radiography_Dataset/Normal/images/Normal-10074.png')\n",
    "sns.set(style=\"white\")\n",
    "plt.axis('off')\n",
    "plt.imshow(img)"
   ]
  },
  {
   "cell_type": "code",
   "execution_count": null,
   "metadata": {
    "vscode": {
     "languageId": "plaintext"
    }
   },
   "outputs": [],
   "source": [
    "# dimension of the image\n",
    "print('Image Shape: {}'.format(img.shape))\n",
    "print('Image Height: {}'.format(img.shape[0]))\n",
    "print('Image Width: {}'.format(img.shape[1]))\n",
    "print('Image Dimension: {}'.format(img.ndim))\n",
    "print('Image Size: {}kb'.format(img.size//1024))\n",
    "print('Image Data Type: {}'.format(img.dtype))\n",
    "print('Maximum RGB value of the image: {}'.format(img.max()))\n",
    "print('Minimum RGB value of the image: {}'.format(img.min()))\n",
    "# We don't want to resize the images because all the images in the dataset is 299*299 pixels mentioned\n",
    "# in the description at kaggle where the datset is located"
   ]
  },
  {
   "cell_type": "code",
   "execution_count": null,
   "metadata": {
    "vscode": {
     "languageId": "plaintext"
    }
   },
   "outputs": [],
   "source": [
    "# We also observe that the image has 3 channels, hence it in in RGB scale even if these are X-ray images.\n",
    "plt.title('B channel', fontsize = 14)\n",
    "plt.imshow(img[ : , : , 0])\n",
    "plt.axis('off')\n",
    "plt.show()"
   ]
  },
  {
   "cell_type": "code",
   "execution_count": null,
   "metadata": {
    "vscode": {
     "languageId": "plaintext"
    }
   },
   "outputs": [],
   "source": []
  }
 ],
 "metadata": {
  "language_info": {
   "name": "python"
  }
 },
 "nbformat": 4,
 "nbformat_minor": 2
}
